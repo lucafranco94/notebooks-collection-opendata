{
 "cells": [
  {
   "cell_type": "markdown",
   "metadata": {},
   "source": [
    "# Elementary Particles Notebook\n",
    "## From Acceleration to Discovery\n",
    "\n",
    "In the lecture we have broadly seen the process from particle acceleration to particle discovery. In this notebook we will look very specifically at that last step and try to find the Higgs boson ourselves in data made public by the ATLAS experiment.\n",
    "\n",
    "Use this notebook as reference material for the assignements of the tutorial belonging to the \"From Acceleration to Discovery\" lecture.\n",
    "\n",
    "---\n",
    "## Importing packages\n",
    "We start by importing the packages we will need to load the data and display the results."
   ]
  },
  {
   "cell_type": "code",
   "execution_count": 1,
   "metadata": {},
   "outputs": [
    {
     "name": "stdout",
     "output_type": "stream",
     "text": [
      "Welcome to JupyROOT 6.26/10\n"
     ]
    }
   ],
   "source": [
    "import ROOT\n",
    "import numpy as np\n",
    "import matplotlib.pyplot as plt"
   ]
  },
  {
   "cell_type": "markdown",
   "metadata": {},
   "source": [
    "---\n",
    "## Loading data\n",
    "We then load the data that we want to analyze. As mentioned, this is data that has been made public by the ATLAS experiment. Unfortunately, it is only a subset of the total dataset, so you will probably not be able to make new discoveries with it. Nevertheless, it is cool to remember that these are *really measured* data."
   ]
  },
  {
   "cell_type": "code",
   "execution_count": 2,
   "metadata": {},
   "outputs": [],
   "source": [
    "f = ROOT.TFile.Open(\"https://atlas-opendata.web.cern.ch/atlas-opendata/samples/2020/GamGam/Data/data_D.GamGam.root\")"
   ]
  },
  {
   "cell_type": "code",
   "execution_count": 3,
   "metadata": {},
   "outputs": [],
   "source": [
    "tree = f.Get(\"mini\")"
   ]
  },
  {
   "cell_type": "markdown",
   "metadata": {},
   "source": [
    "The `tree` variable now contains all the information we need. To begin with, let's see exactly how many events we have to analyze."
   ]
  },
  {
   "cell_type": "code",
   "execution_count": 4,
   "metadata": {},
   "outputs": [
    {
     "name": "stdout",
     "output_type": "stream",
     "text": [
      "3602176\n"
     ]
    }
   ],
   "source": [
    "aantal_events = tree.GetEntries()\n",
    "print(aantal_events)"
   ]
  },
  {
   "cell_type": "markdown",
   "metadata": {},
   "source": [
    "That's quite a few events! Before we can *really* use it, we need to learn two things:\n",
    "\n",
    "1. what information is stored from each event?\n",
    "2. what coordinate system is used to store spatial information (such as particle direction of motion)?\n",
    "\n",
    "---\n",
    "## Event information\n",
    "To get the information from events in the tree, we need to tell the tree which event to open. We do this with the `GetEvent` method. This method, or function, does not return any event information, but is an internal pointer that indicates which event you are currently looking at. For example, we can find out the number of leptons for the first event with the following commands:"
   ]
  },
  {
   "cell_type": "code",
   "execution_count": 5,
   "metadata": {},
   "outputs": [
    {
     "name": "stdout",
     "output_type": "stream",
     "text": [
      "1\n"
     ]
    }
   ],
   "source": [
    "tree.GetEvent(0)\n",
    "print(tree.lep_n)"
   ]
  },
  {
   "cell_type": "markdown",
   "metadata": {},
   "source": [
    "Note that `tree.GetEvent(0)` indeed gives no output. The number of leptons in the second event, accessed via `tree.GetEvent(1)`, is different from that of the first event, as we can see via:"
   ]
  },
  {
   "cell_type": "code",
   "execution_count": 6,
   "metadata": {},
   "outputs": [
    {
     "name": "stdout",
     "output_type": "stream",
     "text": [
      "0\n"
     ]
    }
   ],
   "source": [
    "tree.GetEvent(1)\n",
    "print(tree.lep_n)"
   ]
  },
  {
   "cell_type": "markdown",
   "metadata": {},
   "source": [
    "---\n",
    "### Intermezzo: coordinate system\n",
    "\n",
    "The spatial information of particles is stored in a coordinate system $(\\eta, \\phi, p_T)$, or (pseudorapidity, azimuthal angle, transverse momentum).\n",
    "\n",
    "The **transverse momentum** is the magnitude of the momentum projected onto the plane perpendicular to the beams, with the origin at the point of interaction. The **pseudorapidity** is an encoding of the angle $\\theta$ making a particle with the incoming beam:\n",
    "\n",
    "$$\\eta \\equiv -\\ln \\left[ \\tan\\left(\\frac{\\theta}{2}\\right)\\right]$$\n",
    "\n",
    "The translation between $\\theta$ and $\\eta$ can be seen in the following image\n",
    "\n",
    "![Vertaling naar pseudorapiditeit](https://upload.wikimedia.org/wikipedia/commons/3/30/Pseudorapidity2.png)\n",
    "\n",
    "The reason to use $\\eta$ instead of $\\theta$ is that it points (partly) in the direction of the bunches. Because in a collision the resulting velocity in this direction is rarely zero, this direction is sensitive to Lorentz contraction. Differences between pseudorapidity are Lorentz invariant, so we prefer this coordinate system.\n",
    "\n",
    "---\n",
    "\n",
    "Let's go back to the first event and find the spatial information of one lepton in that event:"
   ]
  },
  {
   "cell_type": "code",
   "execution_count": 7,
   "metadata": {},
   "outputs": [
    {
     "name": "stdout",
     "output_type": "stream",
     "text": [
      "1\n",
      "Pseudorapidity:       -0.057872429490089417\n",
      "Azimuthal angle:        -0.3258419334888458\n",
      "Transverse momentum:  45225.75390625\n"
     ]
    }
   ],
   "source": [
    "# Select first event\n",
    "tree.GetEvent(0)\n",
    "# Print spatial information\n",
    "print(tree.lep_n)\n",
    "print(\"Pseudorapidity:      \", tree.lep_eta[0])\n",
    "print(\"Azimuthal angle:       \", tree.lep_phi[0])\n",
    "print(\"Transverse momentum: \", tree.lep_pt[0])"
   ]
  },
  {
   "cell_type": "markdown",
   "metadata": {},
   "source": [
    "OK, that works. Note that we approach the values ​​for `lep_eta`, `lep_phi` and `lep_pt` as if they were a list. For example, if the event contained more than one lepton, we could use `tree.lep_eta[1]` to find the pseudorapidity of the second lepton.\n",
    "\n",
    "We can find the type of particle with"
   ]
  },
  {
   "cell_type": "code",
   "execution_count": 8,
   "metadata": {},
   "outputs": [
    {
     "data": {
      "text/plain": [
       "13"
      ]
     },
     "execution_count": 8,
     "metadata": {},
     "output_type": "execute_result"
    }
   ],
   "source": [
    "tree.lep_type[0]"
   ]
  },
  {
   "cell_type": "markdown",
   "metadata": {},
   "source": [
    "This number most likely means nothing to you. This number is defined in a standardized *Particle Numbering Scheme*, which can be found in [the PDG documentation](https://pdg.lbl.gov/2006/reviews/pdf-files/montecarlo-web.pdf). There you will find that the number 13 corresponds to a muon. If you want the electric charge of a particle, you can get it with"
   ]
  },
  {
   "cell_type": "code",
   "execution_count": 9,
   "metadata": {},
   "outputs": [
    {
     "data": {
      "text/plain": [
       "-1"
      ]
     },
     "execution_count": 9,
     "metadata": {},
     "output_type": "execute_result"
    }
   ],
   "source": [
    "tree.lep_charge[0]"
   ]
  },
  {
   "cell_type": "markdown",
   "metadata": {},
   "source": [
    "---\n",
    "## Other objects\n",
    "In addition to leptons, events naturally also consist of other objects. In the same way as above, we can also extract information from the event about:\n",
    "\n",
    "- jets: the objects resulting from colored particles (quarks and gluons). For example: `jet_n` and `jet_phi[0]`;\n",
    "- photons, for example with `photon_n` and `photon_eta[1]`;\n",
    "- the missing transversal momentum. For this we can only find out the angle `met_phi` and the magnitude `met_et`. It represents the missing energy and the direction in which this energy is missing.\n",
    "\n",
    "You can use the command `tree.Print()` to get a list of all the information stored in the tree of events. There are many \"branches\" in this tree, but for now you can look at those of the type `object_property`, as for `lep_E` which is a vector storing the energy of the leptons in a given event. For a complete description of these variables, please refer to https://cds.cern.ch/record/2707171/files/ANA-OTRC-2019-01-PUB-updated.pdf (Appendix A).\n"
   ]
  },
  {
   "cell_type": "code",
   "execution_count": 10,
   "metadata": {},
   "outputs": [
    {
     "name": "stdout",
     "output_type": "stream",
     "text": [
      "******************************************************************************\n",
      "*Tree    :mini      : mini                                                   *\n",
      "*Entries :  3602176 : Total =      3487367045 bytes  File  Size =  686855345 *\n",
      "*        :          : Tree compression factor =   5.08                       *\n",
      "******************************************************************************\n",
      "*Br    0 :runNumber : runNumber/I                                            *\n",
      "*Entries :  3602176 : Total  Size=   14411693 bytes  File Size  =      71944 *\n",
      "*Baskets :       25 : Basket Size=    1872384 bytes  Compression= 197.89     *\n",
      "*............................................................................*\n",
      "*Br    1 :eventNumber : eventNumber/I                                        *\n",
      "*Entries :  3602176 : Total  Size=   14411755 bytes  File Size  =   13354596 *\n",
      "*Baskets :       25 : Basket Size=    1872384 bytes  Compression=   1.07     *\n",
      "*............................................................................*\n",
      "*Br    2 :channelNumber : channelNumber/I                                    *\n",
      "*Entries :  3602176 : Total  Size=   14411817 bytes  File Size  =      72044 *\n",
      "*Baskets :       25 : Basket Size=    1872384 bytes  Compression= 197.62     *\n",
      "*............................................................................*\n",
      "*Br    3 :mcWeight  : mcWeight/F                                             *\n",
      "*Entries :  3602176 : Total  Size=   14411662 bytes  File Size  =      64725 *\n",
      "*Baskets :       25 : Basket Size=    1872384 bytes  Compression= 219.96     *\n",
      "*............................................................................*\n",
      "*Br    4 :scaleFactor_PILEUP : scaleFactor_PILEUP/F                          *\n",
      "*Entries :  3602176 : Total  Size=   14411972 bytes  File Size  =      64975 *\n",
      "*Baskets :       25 : Basket Size=    1872384 bytes  Compression= 219.12     *\n",
      "*............................................................................*\n",
      "*Br    5 :scaleFactor_ELE : scaleFactor_ELE/F                                *\n",
      "*Entries :  3602176 : Total  Size=   14411879 bytes  File Size  =      64900 *\n",
      "*Baskets :       25 : Basket Size=    1872384 bytes  Compression= 219.37     *\n",
      "*............................................................................*\n",
      "*Br    6 :scaleFactor_MUON : scaleFactor_MUON/F                              *\n",
      "*Entries :  3602176 : Total  Size=   14411910 bytes  File Size  =      64925 *\n",
      "*Baskets :       25 : Basket Size=    1872384 bytes  Compression= 219.29     *\n",
      "*............................................................................*\n",
      "*Br    7 :scaleFactor_PHOTON : scaleFactor_PHOTON/F                          *\n",
      "*Entries :  3602176 : Total  Size=   14411972 bytes  File Size  =      64975 *\n",
      "*Baskets :       25 : Basket Size=    1872384 bytes  Compression= 219.12     *\n",
      "*............................................................................*\n",
      "*Br    8 :scaleFactor_TAU : scaleFactor_TAU/F                                *\n",
      "*Entries :  3602176 : Total  Size=   14411879 bytes  File Size  =      64900 *\n",
      "*Baskets :       25 : Basket Size=    1872384 bytes  Compression= 219.37     *\n",
      "*............................................................................*\n",
      "*Br    9 :scaleFactor_BTAG : scaleFactor_BTAG/F                              *\n",
      "*Entries :  3602176 : Total  Size=   14411910 bytes  File Size  =      64925 *\n",
      "*Baskets :       25 : Basket Size=    1872384 bytes  Compression= 219.29     *\n",
      "*............................................................................*\n",
      "*Br   10 :scaleFactor_LepTRIGGER : scaleFactor_LepTRIGGER/F                  *\n",
      "*Entries :  3602176 : Total  Size=   14412096 bytes  File Size  =      65075 *\n",
      "*Baskets :       25 : Basket Size=    1872384 bytes  Compression= 218.78     *\n",
      "*............................................................................*\n",
      "*Br   11 :scaleFactor_PhotonTRIGGER : scaleFactor_PhotonTRIGGER/F            *\n",
      "*Entries :  3602176 : Total  Size=   14412189 bytes  File Size  =      65150 *\n",
      "*Baskets :       25 : Basket Size=    1872384 bytes  Compression= 218.53     *\n",
      "*............................................................................*\n",
      "*Br   12 :trigE     : trigE/O                                                *\n",
      "*Entries :  3602176 : Total  Size=    3612139 bytes  File Size  =      25835 *\n",
      "*Baskets :       99 : Basket Size=      44032 bytes  Compression= 138.03     *\n",
      "*............................................................................*\n",
      "*Br   13 :trigM     : trigM/O                                                *\n",
      "*Entries :  3602176 : Total  Size=    3612139 bytes  File Size  =      25835 *\n",
      "*Baskets :       99 : Basket Size=      44032 bytes  Compression= 138.03     *\n",
      "*............................................................................*\n",
      "*Br   14 :trigP     : trigP/O                                                *\n",
      "*Entries :  3602176 : Total  Size=    3612139 bytes  File Size  =      25931 *\n",
      "*Baskets :       99 : Basket Size=      44032 bytes  Compression= 137.52     *\n",
      "*............................................................................*\n",
      "*Br   15 :lep_n     : lep_n/i                                                *\n",
      "*Entries :  3602176 : Total  Size=   14411569 bytes  File Size  =     157866 *\n",
      "*Baskets :       25 : Basket Size=    1872384 bytes  Compression=  90.18     *\n",
      "*............................................................................*\n",
      "*Br   16 :lep_truthMatched : vector<bool>                                    *\n",
      "*Entries :  3602176 : Total  Size=   50433878 bytes  File Size  =    5158950 *\n",
      "*Baskets :       25 : Basket Size=    3011072 bytes  Compression=   9.66     *\n",
      "*............................................................................*\n",
      "*Br   17 :lep_trigMatched : vector<bool>                                     *\n",
      "*Entries :  3602176 : Total  Size=   50459603 bytes  File Size  =    6168654 *\n",
      "*Baskets :       25 : Basket Size=    3011072 bytes  Compression=   8.08     *\n",
      "*............................................................................*\n",
      "*Br   18 :lep_pt    : vector<float>                                          *\n",
      "*Entries :  3602176 : Total  Size=   50536592 bytes  File Size  =    5598123 *\n",
      "*Baskets :       25 : Basket Size=    3011072 bytes  Compression=   8.92     *\n",
      "*............................................................................*\n",
      "*Br   19 :lep_eta   : vector<float>                                          *\n",
      "*Entries :  3602176 : Total  Size=   50536623 bytes  File Size  =    5596689 *\n",
      "*Baskets :       25 : Basket Size=    3011072 bytes  Compression=   8.92     *\n",
      "*............................................................................*\n",
      "*Br   20 :lep_phi   : vector<float>                                          *\n",
      "*Entries :  3602176 : Total  Size=   50536623 bytes  File Size  =    5594999 *\n",
      "*Baskets :       25 : Basket Size=    3011072 bytes  Compression=   8.92     *\n",
      "*............................................................................*\n",
      "*Br   21 :lep_E     : vector<float>                                          *\n",
      "*Entries :  3602176 : Total  Size=   50536561 bytes  File Size  =    5587867 *\n",
      "*Baskets :       25 : Basket Size=    3011072 bytes  Compression=   8.93     *\n",
      "*............................................................................*\n",
      "*Br   22 :lep_z0    : vector<float>                                          *\n",
      "*Entries :  3602176 : Total  Size=   50536592 bytes  File Size  =    5590843 *\n",
      "*Baskets :       25 : Basket Size=    3011072 bytes  Compression=   8.93     *\n",
      "*............................................................................*\n",
      "*Br   23 :lep_charge : vector<int>                                           *\n",
      "*Entries :  3602176 : Total  Size=   50536716 bytes  File Size  =    5447024 *\n",
      "*Baskets :       25 : Basket Size=    3011072 bytes  Compression=   9.17     *\n",
      "*............................................................................*\n",
      "*Br   24 :lep_type  : vector<unsigned int>                                   *\n",
      "*Entries :  3602176 : Total  Size=   50536654 bytes  File Size  =    5468279 *\n",
      "*Baskets :       25 : Basket Size=    3011072 bytes  Compression=   9.13     *\n",
      "*............................................................................*\n",
      "*Br   25 :lep_isTightID : vector<bool>                                       *\n",
      "*Entries :  3602176 : Total  Size=   50459541 bytes  File Size  =    6175734 *\n",
      "*Baskets :       25 : Basket Size=    3011072 bytes  Compression=   8.07     *\n",
      "*............................................................................*\n",
      "*Br   26 :lep_ptcone30 : vector<float>                                       *\n",
      "*Entries :  3602176 : Total  Size=   50536778 bytes  File Size  =    5509179 *\n",
      "*Baskets :       25 : Basket Size=    3011072 bytes  Compression=   9.06     *\n",
      "*............................................................................*\n",
      "*Br   27 :lep_etcone20 : vector<float>                                       *\n",
      "*Entries :  3602176 : Total  Size=   50536778 bytes  File Size  =    5604317 *\n",
      "*Baskets :       25 : Basket Size=    3011072 bytes  Compression=   8.91     *\n",
      "*............................................................................*\n",
      "*Br   28 :lep_trackd0pvunbiased : vector<float>                              *\n",
      "*Entries :  3602176 : Total  Size=   50537057 bytes  File Size  =    5599495 *\n",
      "*Baskets :       25 : Basket Size=    3011072 bytes  Compression=   8.92     *\n",
      "*............................................................................*\n",
      "*Br   29 :lep_tracksigd0pvunbiased : vector<float>                           *\n",
      "*Entries :  3602176 : Total  Size=   50537150 bytes  File Size  =    5603815 *\n",
      "*Baskets :       25 : Basket Size=    3011072 bytes  Compression=   8.91     *\n",
      "*............................................................................*\n",
      "*Br   30 :met_et    : met_et/f                                               *\n",
      "*Entries :  3602176 : Total  Size=   14411600 bytes  File Size  =   12802771 *\n",
      "*Baskets :       25 : Basket Size=    1872384 bytes  Compression=   1.11     *\n",
      "*............................................................................*\n",
      "*Br   31 :met_phi   : met_phi/f                                              *\n",
      "*Entries :  3602176 : Total  Size=   14411631 bytes  File Size  =   13193599 *\n",
      "*Baskets :       25 : Basket Size=    1872384 bytes  Compression=   1.08     *\n",
      "*............................................................................*\n",
      "*Br   32 :jet_n     : jet_n/i                                                *\n",
      "*Entries :  3602176 : Total  Size=   14411569 bytes  File Size  =    2373895 *\n",
      "*Baskets :       25 : Basket Size=    1872384 bytes  Compression=   6.00     *\n",
      "*............................................................................*\n",
      "*Br   33 :jet_pt    : vector<float>                                          *\n",
      "*Entries :  3602176 : Total  Size=   68219024 bytes  File Size  =   29540780 *\n",
      "*Baskets :       49 : Basket Size=    3011072 bytes  Compression=   2.28     *\n",
      "*............................................................................*\n",
      "*Br   34 :jet_eta   : vector<float>                                          *\n",
      "*Entries :  3602176 : Total  Size=   68219079 bytes  File Size  =   30412696 *\n",
      "*Baskets :       49 : Basket Size=    3011072 bytes  Compression=   2.22     *\n",
      "*............................................................................*\n",
      "*Br   35 :jet_phi   : vector<float>                                          *\n",
      "*Entries :  3602176 : Total  Size=   68219079 bytes  File Size  =   30441028 *\n",
      "*Baskets :       49 : Basket Size=    3011072 bytes  Compression=   2.21     *\n",
      "*............................................................................*\n",
      "*Br   36 :jet_E     : vector<float>                                          *\n",
      "*Entries :  3602176 : Total  Size=   68218969 bytes  File Size  =   29719993 *\n",
      "*Baskets :       49 : Basket Size=    3011072 bytes  Compression=   2.27     *\n",
      "*............................................................................*\n",
      "*Br   37 :jet_jvt   : vector<float>                                          *\n",
      "*Entries :  3602176 : Total  Size=   68219079 bytes  File Size  =   27340971 *\n",
      "*Baskets :       49 : Basket Size=    3011072 bytes  Compression=   2.46     *\n",
      "*............................................................................*\n",
      "*Br   38 :jet_trueflav : vector<int>                                         *\n",
      "*Entries :  3602176 : Total  Size=   50433754 bytes  File Size  =    5158750 *\n",
      "*Baskets :       25 : Basket Size=    3011072 bytes  Compression=   9.66     *\n",
      "*............................................................................*\n",
      "*Br   39 :jet_truthMatched : vector<bool>                                    *\n",
      "*Entries :  3602176 : Total  Size=   50433878 bytes  File Size  =    5158950 *\n",
      "*Baskets :       25 : Basket Size=    3011072 bytes  Compression=   9.66     *\n",
      "*............................................................................*\n",
      "*Br   40 :jet_MV2c10 : vector<float>                                         *\n",
      "*Entries :  3602176 : Total  Size=   68219244 bytes  File Size  =   29651675 *\n",
      "*Baskets :       49 : Basket Size=    3011072 bytes  Compression=   2.27     *\n",
      "*............................................................................*\n",
      "*Br   41 :photon_n  : photon_n/i                                             *\n",
      "*Entries :  3602176 : Total  Size=   14411662 bytes  File Size  =     120326 *\n",
      "*Baskets :       25 : Basket Size=    1872384 bytes  Compression= 118.32     *\n",
      "*............................................................................*\n",
      "*Br   42 :photon_truthMatched : vector<bool>                                 *\n",
      "*Entries :  3602176 : Total  Size=   50433971 bytes  File Size  =    5146350 *\n",
      "*Baskets :       25 : Basket Size=    3011072 bytes  Compression=   9.68     *\n",
      "*............................................................................*\n",
      "*Br   43 :photon_trigMatched : vector<bool>                                  *\n",
      "*Entries :  3602176 : Total  Size=   57650528 bytes  File Size  =    5853251 *\n",
      "*Baskets :       25 : Basket Size=    3011072 bytes  Compression=   9.73     *\n",
      "*............................................................................*\n",
      "*Br   44 :photon_pt : vector<float>                                          *\n",
      "*Entries :  3602176 : Total  Size=   79302713 bytes  File Size  =   34439341 *\n",
      "*Baskets :       50 : Basket Size=    3011072 bytes  Compression=   2.27     *\n",
      "*............................................................................*\n",
      "*Br   45 :photon_eta : vector<float>                                         *\n",
      "*Entries :  3602176 : Total  Size=   79302769 bytes  File Size  =   36520535 *\n",
      "*Baskets :       50 : Basket Size=    3011072 bytes  Compression=   2.15     *\n",
      "*............................................................................*\n",
      "*Br   46 :photon_phi : vector<float>                                         *\n",
      "*Entries :  3602176 : Total  Size=   79302769 bytes  File Size  =   36677062 *\n",
      "*Baskets :       50 : Basket Size=    3011072 bytes  Compression=   2.14     *\n",
      "*............................................................................*\n",
      "*Br   47 :photon_E  : vector<float>                                          *\n",
      "*Entries :  3602176 : Total  Size=   79302657 bytes  File Size  =   35200142 *\n",
      "*Baskets :       50 : Basket Size=    3011072 bytes  Compression=   2.23     *\n",
      "*............................................................................*\n",
      "*Br   48 :photon_isTightID : vector<bool>                                    *\n",
      "*Entries :  3602176 : Total  Size=   57650466 bytes  File Size  =    8982762 *\n",
      "*Baskets :       25 : Basket Size=    3011072 bytes  Compression=   6.34     *\n",
      "*............................................................................*\n",
      "*Br   49 :photon_ptcone30 : vector<float>                                    *\n",
      "*Entries :  3602176 : Total  Size=   79303049 bytes  File Size  =   31862941 *\n",
      "*Baskets :       50 : Basket Size=    3011072 bytes  Compression=   2.46     *\n",
      "*............................................................................*\n",
      "*Br   50 :photon_etcone20 : vector<float>                                    *\n",
      "*Entries :  3602176 : Total  Size=   79303049 bytes  File Size  =   36538130 *\n",
      "*Baskets :       50 : Basket Size=    3011072 bytes  Compression=   2.14     *\n",
      "*............................................................................*\n",
      "*Br   51 :photon_convType : vector<int>                                      *\n",
      "*Entries :  3602176 : Total  Size=   79303049 bytes  File Size  =   12685028 *\n",
      "*Baskets :       50 : Basket Size=    3011072 bytes  Compression=   6.18     *\n",
      "*............................................................................*\n",
      "*Br   52 :tau_n     : tau_n/i                                                *\n",
      "*Entries :  3602176 : Total  Size=   14411569 bytes  File Size  =      64650 *\n",
      "*Baskets :       25 : Basket Size=    1872384 bytes  Compression= 220.21     *\n",
      "*............................................................................*\n",
      "*Br   53 :tau_pt    : vector<float>                                          *\n",
      "*Entries :  3602176 : Total  Size=   50433568 bytes  File Size  =    5158775 *\n",
      "*Baskets :       25 : Basket Size=    3011072 bytes  Compression=   9.66     *\n",
      "*............................................................................*\n",
      "*Br   54 :tau_eta   : vector<float>                                          *\n",
      "*Entries :  3602176 : Total  Size=   50433599 bytes  File Size  =    5146100 *\n",
      "*Baskets :       25 : Basket Size=    3011072 bytes  Compression=   9.68     *\n",
      "*............................................................................*\n",
      "*Br   55 :tau_phi   : vector<float>                                          *\n",
      "*Entries :  3602176 : Total  Size=   50433599 bytes  File Size  =    5146100 *\n",
      "*Baskets :       25 : Basket Size=    3011072 bytes  Compression=   9.68     *\n",
      "*............................................................................*\n",
      "*Br   56 :tau_E     : vector<float>                                          *\n",
      "*Entries :  3602176 : Total  Size=   50433537 bytes  File Size  =    5146325 *\n",
      "*Baskets :       25 : Basket Size=    3011072 bytes  Compression=   9.68     *\n",
      "*............................................................................*\n",
      "*Br   57 :tau_isTightID : vector<bool>                                       *\n",
      "*Entries :  3602176 : Total  Size=   50433897 bytes  File Size  =    5147416 *\n",
      "*Baskets :       26 : Basket Size=    3011072 bytes  Compression=   9.68     *\n",
      "*............................................................................*\n",
      "*Br   58 :tau_truthMatched : vector<bool>                                    *\n",
      "*Entries :  3602176 : Total  Size=   50433993 bytes  File Size  =    5159931 *\n",
      "*Baskets :       26 : Basket Size=    3011072 bytes  Compression=   9.66     *\n",
      "*............................................................................*\n",
      "*Br   59 :tau_trigMatched : vector<bool>                                     *\n",
      "*Entries :  3602176 : Total  Size=   50433961 bytes  File Size  =    5147654 *\n",
      "*Baskets :       26 : Basket Size=    3011072 bytes  Compression=   9.68     *\n",
      "*............................................................................*\n",
      "*Br   60 :tau_nTracks : vector<int>                                          *\n",
      "*Entries :  3602176 : Total  Size=   50433833 bytes  File Size  =    5147358 *\n",
      "*Baskets :       26 : Basket Size=    3011072 bytes  Compression=   9.68     *\n",
      "*............................................................................*\n",
      "*Br   61 :tau_BDTid : vector<float>                                          *\n",
      "*Entries :  3602176 : Total  Size=   50433769 bytes  File Size  =    5147213 *\n",
      "*Baskets :       26 : Basket Size=    3011072 bytes  Compression=   9.68     *\n",
      "*............................................................................*\n",
      "*Br   62 :ditau_m   : ditau_m/F                                              *\n",
      "*Entries :  3602176 : Total  Size=   14416825 bytes  File Size  =      70419 *\n",
      "*Baskets :       78 : Basket Size=     240640 bytes  Compression= 202.23     *\n",
      "*............................................................................*\n",
      "*Br   63 :lep_pt_syst : vector<float>                                        *\n",
      "*Entries :  3602176 : Total  Size=   50536857 bytes  File Size  =    5427495 *\n",
      "*Baskets :       26 : Basket Size=    3011072 bytes  Compression=   9.20     *\n",
      "*............................................................................*\n",
      "*Br   64 :met_et_syst : met_et_syst/F                                        *\n",
      "*Entries :  3602176 : Total  Size=   14417161 bytes  File Size  =      70731 *\n",
      "*Baskets :       78 : Basket Size=     240640 bytes  Compression= 201.34     *\n",
      "*............................................................................*\n",
      "*Br   65 :jet_pt_syst : vector<float>                                        *\n",
      "*Entries :  3602176 : Total  Size=   68219519 bytes  File Size  =   10822381 *\n",
      "*Baskets :       51 : Basket Size=    3011072 bytes  Compression=   6.23     *\n",
      "*............................................................................*\n",
      "*Br   66 :photon_pt_syst : vector<float>                                     *\n",
      "*Entries :  3602176 : Total  Size=   79303106 bytes  File Size  =    5883036 *\n",
      "*Baskets :       51 : Basket Size=    3011072 bytes  Compression=  13.32     *\n",
      "*............................................................................*\n",
      "*Br   67 :tau_pt_syst : vector<float>                                        *\n",
      "*Entries :  3602176 : Total  Size=   50433833 bytes  File Size  =    5147358 *\n",
      "*Baskets :       26 : Basket Size=    3011072 bytes  Compression=   9.68     *\n",
      "*............................................................................*\n",
      "*Br   68 :XSection  : XSection/F                                             *\n",
      "*Entries :  3602176 : Total  Size=   14416909 bytes  File Size  =      77814 *\n",
      "*Baskets :       78 : Basket Size=     240640 bytes  Compression= 183.01     *\n",
      "*............................................................................*\n",
      "*Br   69 :SumWeights : SumWeights/F                                          *\n",
      "*Entries :  3602176 : Total  Size=   14417077 bytes  File Size  =      77970 *\n",
      "*Baskets :       78 : Basket Size=     240640 bytes  Compression= 182.65     *\n",
      "*............................................................................*\n",
      "*Br   70 :largeRjet_n : largeRjet_n/i                                        *\n",
      "*Entries :  3602176 : Total  Size=   14417161 bytes  File Size  =      70731 *\n",
      "*Baskets :       78 : Basket Size=     240640 bytes  Compression= 201.34     *\n",
      "*............................................................................*\n",
      "*Br   71 :largeRjet_pt : vector<float>                                       *\n",
      "*Entries :  3602176 : Total  Size=   50433865 bytes  File Size  =    5159733 *\n",
      "*Baskets :       26 : Basket Size=    3011072 bytes  Compression=   9.66     *\n",
      "*............................................................................*\n",
      "*Br   72 :largeRjet_eta : vector<float>                                      *\n",
      "*Entries :  3602176 : Total  Size=   50433897 bytes  File Size  =    5147416 *\n",
      "*Baskets :       26 : Basket Size=    3011072 bytes  Compression=   9.68     *\n",
      "*............................................................................*\n",
      "*Br   73 :largeRjet_phi : vector<float>                                      *\n",
      "*Entries :  3602176 : Total  Size=   50433897 bytes  File Size  =    5147416 *\n",
      "*Baskets :       26 : Basket Size=    3011072 bytes  Compression=   9.68     *\n",
      "*............................................................................*\n",
      "*Br   74 :largeRjet_E : vector<float>                                        *\n",
      "*Entries :  3602176 : Total  Size=   50433833 bytes  File Size  =    5147358 *\n",
      "*Baskets :       26 : Basket Size=    3011072 bytes  Compression=   9.68     *\n",
      "*............................................................................*\n",
      "*Br   75 :largeRjet_m : vector<float>                                        *\n",
      "*Entries :  3602176 : Total  Size=   50433833 bytes  File Size  =    5147358 *\n",
      "*Baskets :       26 : Basket Size=    3011072 bytes  Compression=   9.68     *\n",
      "*............................................................................*\n",
      "*Br   76 :largeRjet_truthMatched : vector<float>                             *\n",
      "*Entries :  3602176 : Total  Size=   50434185 bytes  File Size  =    5159919 *\n",
      "*Baskets :       26 : Basket Size=    3011072 bytes  Compression=   9.66     *\n",
      "*............................................................................*\n",
      "*Br   77 :largeRjet_D2 : vector<float>                                       *\n",
      "*Entries :  3602176 : Total  Size=   50433865 bytes  File Size  =    5159733 *\n",
      "*Baskets :       26 : Basket Size=    3011072 bytes  Compression=   9.66     *\n",
      "*............................................................................*\n",
      "*Br   78 :largeRjet_tau32 : vector<float>                                    *\n",
      "*Entries :  3602176 : Total  Size=   50433961 bytes  File Size  =    5147654 *\n",
      "*Baskets :       26 : Basket Size=    3011072 bytes  Compression=   9.68     *\n",
      "*............................................................................*\n",
      "*Br   79 :largeRjet_pt_syst : vector<float>                                  *\n",
      "*Entries :  3602176 : Total  Size=   50434025 bytes  File Size  =    5147454 *\n",
      "*Baskets :       26 : Basket Size=    3011072 bytes  Compression=   9.68     *\n",
      "*............................................................................*\n",
      "*Br   80 :tau_charge : vector<int>                                           *\n",
      "*Entries :  3602176 : Total  Size=   50433801 bytes  File Size  =    5160402 *\n",
      "*Baskets :       26 : Basket Size=    3011072 bytes  Compression=   9.66     *\n",
      "*............................................................................*\n"
     ]
    }
   ],
   "source": [
    "tree.Print()"
   ]
  },
  {
   "cell_type": "markdown",
   "metadata": {},
   "source": [
    "---\n",
    "\n",
    "## Finally: Finding Higgs\n",
    "Now, with all this knowledge, let's try to find the Higgs. The process we are going to look at is\n",
    "\n",
    "$$H \\rightarrow \\gamma \\gamma.$$\n",
    "\n",
    "To discover the Higgs, we need to find out the invariant mass of the Higgs, and (because that value is invariant) of the two photons. We will leave the formula for this unexplained for now."
   ]
  },
  {
   "cell_type": "code",
   "execution_count": 11,
   "metadata": {},
   "outputs": [],
   "source": [
    "def invariante_massa_2(pt1, pt2, eta1, eta2, phi1, phi2):\n",
    "    return 2*pt1*pt2*(np.cosh(eta1-eta2) - np.cos(phi1 - phi2))"
   ]
  },
  {
   "cell_type": "markdown",
   "metadata": {},
   "source": [
    "We want to store these invariant masses for later plotting in a histogram (the standard method for presenting these kinds of results). For this reason we create a list to store the results."
   ]
  },
  {
   "cell_type": "code",
   "execution_count": 12,
   "metadata": {},
   "outputs": [],
   "source": [
    "invariante_massas = []"
   ]
  },
  {
   "cell_type": "markdown",
   "metadata": {},
   "source": [
    "We could now loop over all events with a `for` loop, selecting them one by one with `GetEvent()`. However, this is a bit cumbersome, because it can also be done immediately with\n",
    "\n",
    "    for event in tree:\n",
    "\n",
    "This does this for us right away, so we don't need a `GetEvent()` statement anymore.\n",
    "\n",
    "In this loop, we're going to do two kinds of things:\n",
    "\n",
    "1. We are going to select events by their properties. Only events that have the right properties should be included in our analysis.\n",
    "2. We are going to calculate the invariant masses for the events that survived our cuts and store it in `invariant_mass`.\n",
    "\n",
    "Which properties do we want to select on? Well, our final state contains two photons, so we're going to discard any event that contains less than 2 photons. We could, with a more complicated analysis, also use events with more than 2 photons, but to keep the simplicity we discard those as well.\n",
    "\n",
    "All this gives us the following analysis:"
   ]
  },
  {
   "cell_type": "code",
   "execution_count": 13,
   "metadata": {},
   "outputs": [
    {
     "name": "stdout",
     "output_type": "stream",
     "text": [
      "Done!\n"
     ]
    }
   ],
   "source": [
    "for i, event in enumerate(tree):\n",
    "    # Stop the analysis when we have analyzed more than 10000 events.\n",
    "    # We do this to finish faster. For a full analysis\n",
    "    # we remove this if statement.\n",
    "    if i > 1e3:\n",
    "        break\n",
    "    # Print how far you are now\n",
    "    if (i+1)%10000 == 0:\n",
    "        print(\"Analyseren van event {} van de {}\".format(i+1, aantal_events))\n",
    "        \n",
    "    # Ignore all events with != 2 photons\n",
    "    if tree.photon_n != 2:\n",
    "        continue\n",
    "        \n",
    "    # Calculate the invariant mass of the remaining events\n",
    "    s = np.sqrt( invariante_massa_2(\n",
    "        tree.photon_pt[0], tree.photon_pt[1],\n",
    "        tree.photon_eta[0], tree.photon_eta[1],\n",
    "        tree.photon_phi[0], tree.photon_phi[1],\n",
    "    ))\n",
    "    invariante_massas.append( s/1000 )\n",
    "    \n",
    "print(\"Done!\")"
   ]
  },
  {
   "cell_type": "markdown",
   "metadata": {},
   "source": [
    "We then make the histogram very easily with matplotlib"
   ]
  },
  {
   "cell_type": "code",
   "execution_count": 14,
   "metadata": {},
   "outputs": [
    {
     "data": {
      "image/png": "[encoded data removed]",
      "text/plain": [
       "<Figure size 640x480 with 1 Axes>"
      ]
     },
     "metadata": {},
     "output_type": "display_data"
    }
   ],
   "source": [
    "bins = np.linspace(100, 150, 100)\n",
    "plt.hist(invariante_massas, bins)\n",
    "plt.title(\"Total #events: {}\".format(len(invariante_massas)))\n",
    "plt.show()"
   ]
  },
  {
   "cell_type": "markdown",
   "metadata": {},
   "source": [
    "Unfortunately, we don't see a peak around 125 GeV :( The reasons are:\n",
    "\n",
    "- we could use a more sophisticated selection: only requiring two photons in the event is not enough to isolate the **signal**;\n",
    "- we needed more data! The **signal** is hidden in the statistical fluctuations of the histogram.\n",
    "\n"
   ]
  },
  {
   "cell_type": "code",
   "execution_count": null,
   "metadata": {},
   "outputs": [],
   "source": []
  }
 ],
 "metadata": {
  "kernelspec": {
   "display_name": "Python 3 (ipykernel)",
   "language": "python",
   "name": "python3"
  },
  "language_info": {
   "codemirror_mode": {
    "name": "ipython",
    "version": 3
   },
   "file_extension": ".py",
   "mimetype": "text/x-python",
   "name": "python",
   "nbconvert_exporter": "python",
   "pygments_lexer": "ipython3",
   "version": "3.10.6"
  }
 },
 "nbformat": 4,
 "nbformat_minor": 4
}
