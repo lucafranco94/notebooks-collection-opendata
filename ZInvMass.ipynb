{
 "cells": [
  {
   "cell_type": "markdown",
   "metadata": {},
   "source": [
    "# Elementary Particles Notebook\n",
    "## From Acceleration to Discovery\n",
    "\n",
    "In the lecture we have broadly seen the process from particle acceleration to particle discovery. In this notebook we are going to look at that last step very specifically. Use this notebook as a template for Assignment 4 of the seminar belonging to the \"From Acceleration to Discovery\" lecture.\n",
    "\n",
    "---\n",
    "## Importing packages\n",
    "We start by importing the packages we will need to load the data and display the results."
   ]
  },
  {
   "cell_type": "code",
   "execution_count": 1,
   "metadata": {},
   "outputs": [
    {
     "name": "stdout",
     "output_type": "stream",
     "text": [
      "Welcome to JupyROOT 6.26/10\n"
     ]
    }
   ],
   "source": [
    "import ROOT\n",
    "import numpy as np\n",
    "import matplotlib.pyplot as plt"
   ]
  },
  {
   "cell_type": "markdown",
   "metadata": {},
   "source": [
    "---\n",
    "## Loading data\n",
    "We then load the data that we want to analyze. As mentioned, this is data that has been made public by the ATLAS experiment. Unfortunately, it is only a subset of the total dataset, so you will probably not be able to make new discoveries with it. Nevertheless, it is cool to remember that these are *really measured* data."
   ]
  },
  {
   "cell_type": "code",
   "execution_count": 2,
   "metadata": {},
   "outputs": [],
   "source": [
    "f = ROOT.TFile.Open(\"http://opendata.atlas.cern/release/samples/Data/DataMuons.root\")"
   ]
  },
  {
   "cell_type": "code",
   "execution_count": 3,
   "metadata": {
    "scrolled": false
   },
   "outputs": [],
   "source": [
    "tree = f.Get(\"mini\")"
   ]
  },
  {
   "cell_type": "markdown",
   "metadata": {},
   "source": [
    "The `tree` variable now contains all the information we need. To begin with, let's see exactly how many events we have to analyze."
   ]
  },
  {
   "cell_type": "code",
   "execution_count": 4,
   "metadata": {},
   "outputs": [
    {
     "name": "stdout",
     "output_type": "stream",
     "text": [
      "7028084\n"
     ]
    }
   ],
   "source": [
    "aantal_events = tree.GetEntries()\n",
    "print(aantal_events)"
   ]
  },
  {
   "cell_type": "markdown",
   "metadata": {},
   "source": [
    "---\n",
    "## Lepton pseudorapidity"
   ]
  },
  {
   "cell_type": "code",
   "execution_count": 5,
   "metadata": {},
   "outputs": [],
   "source": [
    "pseudorapiditeit = []"
   ]
  },
  {
   "cell_type": "code",
   "execution_count": 6,
   "metadata": {},
   "outputs": [
    {
     "name": "stdout",
     "output_type": "stream",
     "text": [
      "Done!\n"
     ]
    }
   ],
   "source": [
    "for i, event in enumerate(tree):\n",
    "    # Stop the analysis when we have analyzed more than 1000 events.\n",
    "    # We do this to finish faster. For a full analysis\n",
    "    # we remove this if statement.\n",
    "    if i > 1000:\n",
    "        break\n",
    "    # Print how far you are now\n",
    "    if (i+1)%10000 == 0:\n",
    "        print(\"Analyseren van event {} van de {}\".format(i+1, aantal_events))\n",
    "    \n",
    "    # We don't have cuts, so we add the pseudorapidity directly\n",
    "    # to our list\n",
    "    for j in range(tree.lep_n):\n",
    "        pseudorapiditeit.append(tree.lep_eta[j])\n",
    "    \n",
    "print(\"Done!\")"
   ]
  },
  {
   "cell_type": "code",
   "execution_count": 7,
   "metadata": {},
   "outputs": [
    {
     "data": {
      "image/png": "[encoded data removed]",
      "text/plain": [
       "<Figure size 640x480 with 1 Axes>"
      ]
     },
     "metadata": {},
     "output_type": "display_data"
    }
   ],
   "source": [
    "plt.hist(pseudorapiditeit, 100, histtype=\"step\")\n",
    "plt.title(\"Total #events: {}\".format(len(pseudorapiditeit)))\n",
    "plt.show()"
   ]
  },
  {
   "cell_type": "markdown",
   "metadata": {},
   "source": [
    "The dips in this histogram are not related to the physics of the underlying process, but to the detector. Supporting structures for the detector are located at those values ​​for the pseudorapidity, making the detection of particles more difficult (= more unlikely) there.\n",
    "\n",
    "---\n",
    "## Z boson detection"
   ]
  },
  {
   "cell_type": "code",
   "execution_count": 8,
   "metadata": {},
   "outputs": [],
   "source": [
    "s = []"
   ]
  },
  {
   "cell_type": "code",
   "execution_count": 9,
   "metadata": {},
   "outputs": [],
   "source": [
    "def invariante_massa_2(pt1, pt2, eta1, eta2, phi1, phi2):\n",
    "    #dummy value. Fill in with your implementation of the invariant mass\n",
    "    return 1"
   ]
  },
  {
   "cell_type": "code",
   "execution_count": 10,
   "metadata": {},
   "outputs": [
    {
     "name": "stdout",
     "output_type": "stream",
     "text": [
      "Analyseren van event 10000 van de 7028084\n",
      "Analyseren van event 20000 van de 7028084\n",
      "Analyseren van event 30000 van de 7028084\n",
      "Analyseren van event 40000 van de 7028084\n",
      "Analyseren van event 50000 van de 7028084\n",
      "Analyseren van event 60000 van de 7028084\n",
      "Analyseren van event 70000 van de 7028084\n",
      "Analyseren van event 80000 van de 7028084\n",
      "Analyseren van event 90000 van de 7028084\n",
      "Analyseren van event 100000 van de 7028084\n",
      "Done!\n"
     ]
    }
   ],
   "source": [
    "for i, event in enumerate(tree):\n",
    "    # Stop the analysis when we have analyzed more than 1000 events.\n",
    "    # We do this to finish faster. For a full analysis\n",
    "    # we remove this if statement.\n",
    "    \n",
    "    if i > 100000:\n",
    "        break\n",
    "    \n",
    "    # Print how far you are now\n",
    "    if (i+1)%10000 == 0:\n",
    "        print(\"Analyseren van event {} van de {}\".format(i+1, aantal_events))\n",
    "    \n",
    "    # Here you require two leptons        \n",
    "    # The leptons coming from the Z-boson are muons that have opposite charges.\n",
    "        #Fill in with your implementation \n",
    "    \n",
    "    # Calculate invariant masses of muons. 0s are dummy values...\n",
    "    s2 = invariante_massa_2(\n",
    "        0, 0,\n",
    "        0, 0,\n",
    "        0, 0\n",
    "    )\n",
    "    s.append( np.sqrt(s2)/1000 )\n",
    "    \n",
    "print(\"Done!\")"
   ]
  },
  {
   "cell_type": "code",
   "execution_count": 11,
   "metadata": {},
   "outputs": [
    {
     "data": {
      "image/png": "[encoded data removed]",
      "text/plain": [
       "<Figure size 640x480 with 1 Axes>"
      ]
     },
     "metadata": {},
     "output_type": "display_data"
    }
   ],
   "source": [
    "bins = np.linspace(30, 150, 500)\n",
    "plt.hist(s, bins, histtype=\"step\")\n",
    "plt.title(\"Total #events: {}\".format(len(s)))\n",
    "plt.show()"
   ]
  },
  {
   "cell_type": "code",
   "execution_count": 12,
   "metadata": {},
   "outputs": [
    {
     "data": {
      "image/png": "[encoded data removed]",
      "text/plain": [
       "<Figure size 640x480 with 1 Axes>"
      ]
     },
     "metadata": {},
     "output_type": "display_data"
    }
   ],
   "source": [
    "bins = np.linspace(85, 95, 60)\n",
    "plt.hist(s, bins, histtype=\"step\")\n",
    "plt.title(\"Total #events: {}\".format(len(s)))\n",
    "plt.show()"
   ]
  },
  {
   "cell_type": "markdown",
   "metadata": {},
   "source": [
    "The peak we see rides around 91 GeV, so that's most likely the mass of the Z boson. To know for sure, we would have to use the theory of the Z boson to see if the location and shape of the peak match the data we've plotted here, but that's outside the scope of the assignment."
   ]
  },
  {
   "cell_type": "code",
   "execution_count": null,
   "metadata": {},
   "outputs": [],
   "source": []
  }
 ],
 "metadata": {
  "kernelspec": {
   "display_name": "Python 3 (ipykernel)",
   "language": "python",
   "name": "python3"
  },
  "language_info": {
   "codemirror_mode": {
    "name": "ipython",
    "version": 3
   },
   "file_extension": ".py",
   "mimetype": "text/x-python",
   "name": "python",
   "nbconvert_exporter": "python",
   "pygments_lexer": "ipython3",
   "version": "3.10.6"
  }
 },
 "nbformat": 4,
 "nbformat_minor": 2
}
